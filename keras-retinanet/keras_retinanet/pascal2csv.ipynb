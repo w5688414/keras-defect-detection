{
 "cells": [
  {
   "cell_type": "code",
   "execution_count": 1,
   "metadata": {},
   "outputs": [],
   "source": [
    "import csv\n",
    "import os\n",
    "import glob\n",
    "import sys"
   ]
  },
  {
   "cell_type": "code",
   "execution_count": 9,
   "metadata": {},
   "outputs": [],
   "source": [
    "class PascalVOC2CSV(object):\n",
    "    def __init__(self,root_dir, ann_path='./annotations.csv',classes_path='./classes.csv'):\n",
    "        '''\n",
    "        :param xml: 所有Pascal VOC的xml文件路径组成的列表\n",
    "        :param ann_path: ann_path\n",
    "        :param classes_path: classes_path\n",
    "        '''\n",
    "        anno_dir=os.path.join(root_dir,'Annotations/*.xml')\n",
    "        xml_file = glob.glob(anno_dir)\n",
    "        self.xml = xml_file\n",
    "        self.ann_path = ann_path\n",
    "        self.jpeg_path=os.path.join(root_dir,'JPEGImages')\n",
    "        self.classes_path=classes_path\n",
    "        self.label=[]\n",
    "        self.annotations=[]\n",
    "\n",
    "        self.data_transfer()\n",
    "        self.write_file()\n",
    "\n",
    "\n",
    "    def data_transfer(self):\n",
    "        for num, xml_file in enumerate(self.xml):\n",
    "            try:\n",
    "                # print(xml_file)\n",
    "                # 进度输出\n",
    "                sys.stdout.write('\\r>> Converting image %d/%d' % (\n",
    "                    num + 1, len(self.xml)))\n",
    "                sys.stdout.flush()\n",
    "                tree=ET.ElementTree(file=xml_file)\n",
    "                root=tree.getroot()\n",
    "                self.file_name=root.find('filename').text\n",
    "                ObjectSet=root.findall('object')\n",
    "                for obj in ObjectSet:\n",
    "                    ObjName=obj.find('name').text\n",
    "                    bndBox=obj.find('bndbox')\n",
    "                    x1=int(bndBox.find('xmin').text)\n",
    "                    y1=int(bndBox.find('ymin').text)\n",
    "                    x2=int(bndBox.find('xmax').text)\n",
    "                    y2=int(bndBox.find('ymax').text)\n",
    "                    \n",
    "                    self.supercategory=ObjName\n",
    "                    if self.supercategory not in self.label:\n",
    "                        self.label.append(self.supercategory)\n",
    "                    self.annotations.append([os.path.join(self.jpeg_path,self.file_name),x1,y1,x2,y2,self.supercategory])\n",
    "\n",
    "#                 with open(xml_file, 'r') as fp:\n",
    "#                     for p in fp:\n",
    "#                         if '<filename>' in p:\n",
    "#                             self.filen_ame = p.split('>')[1].split('<')[0]\n",
    "\n",
    "#                         if '<object>' in p:\n",
    "#                             # 类别\n",
    "#                             d = [next(fp).split('>')[1].split('<')[0] for _ in range(9)]\n",
    "#                             self.supercategory = d[0]\n",
    "#                             if self.supercategory not in self.label:\n",
    "#                                 self.label.append(self.supercategory)\n",
    "\n",
    "#                             # 边界框\n",
    "#                             x1 = int(d[-4])\n",
    "#                             y1 = int(d[-3])\n",
    "#                             x2 = int(d[-2])\n",
    "#                             y2 = int(d[-1])                                        \n",
    "            except:\n",
    "                continue\n",
    "\n",
    "        sys.stdout.write('\\n')\n",
    "        sys.stdout.flush()\n",
    "\n",
    "    def write_file(self,):\n",
    "        with open(self.ann_path, 'w', newline='') as fp:\n",
    "            csv_writer = csv.writer(fp, dialect='excel')\n",
    "            csv_writer.writerows(self.annotations)\n",
    "\n",
    "        class_name=sorted(self.label)\n",
    "        class_=[]\n",
    "        for num,name in enumerate(class_name):\n",
    "            class_.append([name,num])\n",
    "        with open(self.classes_path, 'w', newline='') as fp:\n",
    "            csv_writer = csv.writer(fp, dialect='excel')\n",
    "            csv_writer.writerows(class_)"
   ]
  },
  {
   "cell_type": "code",
   "execution_count": 10,
   "metadata": {},
   "outputs": [
    {
     "name": "stdout",
     "output_type": "stream",
     "text": [
      ">> Converting image 77/77\n"
     ]
    },
    {
     "data": {
      "text/plain": [
       "<__main__.PascalVOC2CSV at 0x7f74e3829b38>"
      ]
     },
     "execution_count": 10,
     "metadata": {},
     "output_type": "execute_result"
    }
   ],
   "source": [
    "root_dir='/home/eric/data/aihub/VOCdevkit/VOC2007/'\n",
    "\n",
    "\n",
    "PascalVOC2CSV(root_dir)"
   ]
  },
  {
   "cell_type": "code",
   "execution_count": 7,
   "metadata": {},
   "outputs": [
    {
     "name": "stdout",
     "output_type": "stream",
     "text": [
      "00008.BMP_block_27.jpg\n",
      "223 40 237 54\n",
      "87 44 100 54\n",
      "74 1 83 10\n",
      "127 28 134 36\n",
      "85 20 94 27\n",
      "219 94 229 103\n",
      "120 123 127 129\n"
     ]
    }
   ],
   "source": [
    "import xml.etree.ElementTree as ET\n",
    "\n",
    "def GetAnnotBoxLoc(Anno_path):\n",
    "    tree=ET.ElementTree(file=Anno_path)\n",
    "    root=tree.getroot()\n",
    "    ObjectSet=root.findall('object')\n",
    "    ObjBndBoxSet={}\n",
    "    file_name=root.find('filename').text\n",
    "    print(file_name)\n",
    "    for obj in ObjectSet:\n",
    "        ObjName=obj.find('name').text\n",
    "        bndBox=obj.find('bndbox')\n",
    "        x1=int(bndBox.find('xmin').text)\n",
    "        y1=int(bndBox.find('ymin').text)\n",
    "        x2=int(bndBox.find('xmax').text)\n",
    "        y2=int(bndBox.find('ymax').text)\n",
    "        print(x1,y1,x2,y2)\n",
    "anno_path='/home/eric/data/aihub/VOCdevkit/VOC2007/Annotations/00008.BMP_block_27.xml'\n",
    "GetAnnotBoxLoc(anno_path)"
   ]
  },
  {
   "cell_type": "code",
   "execution_count": null,
   "metadata": {},
   "outputs": [],
   "source": []
  }
 ],
 "metadata": {
  "kernelspec": {
   "display_name": "Python 3",
   "language": "python",
   "name": "python3"
  },
  "language_info": {
   "codemirror_mode": {
    "name": "ipython",
    "version": 3
   },
   "file_extension": ".py",
   "mimetype": "text/x-python",
   "name": "python",
   "nbconvert_exporter": "python",
   "pygments_lexer": "ipython3",
   "version": "3.6.4"
  }
 },
 "nbformat": 4,
 "nbformat_minor": 2
}
